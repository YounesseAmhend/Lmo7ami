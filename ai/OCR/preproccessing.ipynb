{
 "cells": [
  {
   "cell_type": "markdown",
   "metadata": {},
   "source": [
    "# Loading the image"
   ]
  },
  {
   "cell_type": "code",
   "execution_count": 3,
   "metadata": {},
   "outputs": [
    {
     "data": {
      "text/plain": [
       "'images/test/cin.jpg'"
      ]
     },
     "metadata": {},
     "output_type": "display_data"
    }
   ],
   "source": [
    "import cv2\n",
    "from matplotlib import pyplot as plt\n",
    "\n",
    "\n",
    "img_file: str = \"images/test/cin.jpg\"\n",
    "\n",
    "img = cv2.imread(img_file)\n",
    "\n",
    "display(img_file)"
   ]
  },
  {
   "cell_type": "code",
   "execution_count": 4,
   "metadata": {},
   "outputs": [],
   "source": [
    "import numpy as np\n",
    "\n",
    "\n",
    "def preProcessing(img):\n",
    "    \"\"\"A function used to pre-process images to make it suitable to work with.\n",
    "\n",
    "    Parameters: img (matrix): matrix image\n",
    "    Returns: imgThres(matrix): Processed matrix image\n",
    "    \"\"\"\n",
    "    # 1 - Convert to grey level\n",
    "    imgGray = cv2.cvtColor(img, cv2.COLOR_BGR2GRAY)\n",
    "\n",
    "    # 2 - Denoise image\n",
    "    imgBlur = cv2.fastNlMeansDenoising(imgGray, h=10)\n",
    "    # imgBlur2 = cv2.GaussianBlur(imgGray,(5,5),1)  # another way of denoising\n",
    "\n",
    "    # 3 - Removing unnecessary details such as writing\n",
    "    kernel = cv2.getStructuringElement(cv2.MORPH_ELLIPSE, (3, 3))\n",
    "    morph = cv2.morphologyEx(imgBlur, cv2.MORPH_CLOSE, kernel, iterations=5)\n",
    "\n",
    "    # 4 - Edge detection using canny\n",
    "    imgCanny = cv2.Canny(morph, 75, 200)\n",
    "    # imgCanny2 = cv2.Canny(imgBlur,75,200) # without morph\n",
    "\n",
    "    # 5- Extra preprocessing Dilation and Erosion( Mostly we don't needs them )\n",
    "    kernel = np.ones((5, 5))\n",
    "    imgDial = cv2.dilate(imgCanny, kernel, iterations=1)\n",
    "    imgThres = cv2.erode(imgDial, kernel, iterations=1)\n",
    "\n",
    "    # write output images for testing\n",
    "    # cv2.imwrite(\"output/imgGray.jpg\", imgGray)\n",
    "    # cv2.imwrite(\"output/imgBlur.jpg\", imgBlur)\n",
    "    # cv2.imwrite(\"output/morph.jpg\", morph)\n",
    "    # cv2.imwrite(\"output/imgCanny.jpg\", imgCanny)\n",
    "    # cv2.imwrite(\"output/imgDial.jpg\", imgDial)\n",
    "    # cv2.imwrite(\"output/imgThres.jpg\", imgThres)\n",
    "\n",
    "    return imgThres"
   ]
  },
  {
   "cell_type": "code",
   "execution_count": 5,
   "metadata": {},
   "outputs": [
    {
     "data": {
      "text/plain": [
       "array([[0, 0, 0, ..., 0, 0, 0],\n",
       "       [0, 0, 0, ..., 0, 0, 0],\n",
       "       [0, 0, 0, ..., 0, 0, 0],\n",
       "       ...,\n",
       "       [0, 0, 0, ..., 0, 0, 0],\n",
       "       [0, 0, 0, ..., 0, 0, 0],\n",
       "       [0, 0, 0, ..., 0, 0, 0]], dtype=uint8)"
      ]
     },
     "execution_count": 5,
     "metadata": {},
     "output_type": "execute_result"
    }
   ],
   "source": [
    "preProcessing(img)"
   ]
  },
  {
   "cell_type": "code",
   "execution_count": 11,
   "metadata": {},
   "outputs": [
    {
     "data": {
      "text/plain": [
       "-1"
      ]
     },
     "execution_count": 11,
     "metadata": {},
     "output_type": "execute_result"
    }
   ],
   "source": []
  }
 ],
 "metadata": {
  "kernelspec": {
   "display_name": "Python 3",
   "language": "python",
   "name": "python3"
  },
  "language_info": {
   "codemirror_mode": {
    "name": "ipython",
    "version": 3
   },
   "file_extension": ".py",
   "mimetype": "text/x-python",
   "name": "python",
   "nbconvert_exporter": "python",
   "pygments_lexer": "ipython3",
   "version": "3.12.2"
  }
 },
 "nbformat": 4,
 "nbformat_minor": 2
}
